{
 "cells": [
  {
   "cell_type": "code",
   "execution_count": 20,
   "metadata": {
    "collapsed": true,
    "ExecuteTime": {
     "start_time": "2023-09-19T08:41:05.918898Z",
     "end_time": "2023-09-19T08:41:05.922851Z"
    }
   },
   "outputs": [
    {
     "name": "stdout",
     "output_type": "stream",
     "text": [
      "\n",
      "    local a = {}\n",
      "\n",
      "    function a.say(method)\n",
      "        python.builtins.print(\"hello\")\n",
      "        method(python.builtins.print)\n",
      "    end\n",
      "\n",
      "    return a\n",
      "    \n",
      "<Lua function at 0x000002AB803E05E0>\n",
      "<Lua table at 0x000002AB8043D950>\n",
      "<Lua function at 0x000002AB803E08B0>\n",
      "hello\n",
      "<built-in function print>\n",
      "None\n"
     ]
    }
   ],
   "source": [
    "import functools\n",
    "import inspect\n",
    "import lupa.lua54 as lupa\n",
    "lua = lupa.LuaRuntime()\n",
    "\n",
    "code = \"\"\"\n",
    "    local a = {}\n",
    "\n",
    "    function a.say(method)\n",
    "        python.builtins.print(\"hello\")\n",
    "        method(python.builtins.print)\n",
    "    end\n",
    "\n",
    "    return a\n",
    "    \"\"\"\n",
    "\n",
    "print(code)\n",
    "\n",
    "res = lua.compile(code)\n",
    "\n",
    "print(res)\n",
    "cls = res()\n",
    "print(cls)\n",
    "print(cls.say)\n",
    "print(cls.say(print))"
   ]
  },
  {
   "cell_type": "code",
   "execution_count": 21,
   "outputs": [
    {
     "name": "stdout",
     "output_type": "stream",
     "text": [
      ".py\n"
     ]
    }
   ],
   "source": [
    "from pathlib import Path\n",
    "\n",
    "a = Path(\"test.py\")\n",
    "\n",
    "print(a.suffix)"
   ],
   "metadata": {
    "collapsed": false,
    "ExecuteTime": {
     "start_time": "2023-09-19T13:51:22.108382Z",
     "end_time": "2023-09-19T13:51:22.119499Z"
    }
   }
  }
 ],
 "metadata": {
  "kernelspec": {
   "display_name": "Python 3",
   "language": "python",
   "name": "python3"
  },
  "language_info": {
   "codemirror_mode": {
    "name": "ipython",
    "version": 2
   },
   "file_extension": ".py",
   "mimetype": "text/x-python",
   "name": "python",
   "nbconvert_exporter": "python",
   "pygments_lexer": "ipython2",
   "version": "2.7.6"
  }
 },
 "nbformat": 4,
 "nbformat_minor": 0
}
