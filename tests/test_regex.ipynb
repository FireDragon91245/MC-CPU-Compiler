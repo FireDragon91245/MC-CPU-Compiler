{
 "cells": [
  {
   "cell_type": "code",
   "execution_count": 8,
   "metadata": {
    "collapsed": true,
    "ExecuteTime": {
     "start_time": "2023-09-18T12:08:23.672949Z",
     "end_time": "2023-09-18T12:08:23.681735Z"
    }
   },
   "outputs": [
    {
     "name": "stdout",
     "output_type": "stream",
     "text": [
      "('\"repeat 20, \"\"\"', 'repeat 20, \"\"')\n",
      "<regex.Match object; span=(0, 15), match='\"repeat 20, \"\"\"'>\n"
     ]
    }
   ],
   "source": [
    "import regex\n",
    "\n",
    "reg = r\"(\\\"((?>[^\\\"\\\"]+|(?1))*)\\\")\"\n",
    "r = regex.compile(reg)\n",
    "res = r.match(\"\\\"repeat 20, \\\"\\\"\\\"\")\n",
    "print(res.groups())\n",
    "print(res)"
   ]
  },
  {
   "cell_type": "code",
   "execution_count": 9,
   "outputs": [
    {
     "name": "stdout",
     "output_type": "stream",
     "text": [
      "(\\[&r[0-9]{1,3}\\])|(&r[0-9]{1,3})|(0x[0-9A-Fa-f]{1,2}|[0-9]{1,3})|(\\*0x[0-9A-Fa-f]{1,2}|\\*[0-9]{1,3})|(\\*[a-zA-Z][a-zA-Z0-9]*)|(~[a-zA-Z][a-zA-Z0-9_-]*)|(\\\"((?>[^\\\"\\\"]+|(?1))*)\\\")|\n"
     ]
    }
   ],
   "source": [
    "from compiler import TYPE_REGEX_MATCH_REPLACERS\n",
    "\n",
    "any = \"\"\n",
    "for k, v in TYPE_REGEX_MATCH_REPLACERS.items():\n",
    "    any += v + \"|\"\n",
    "print(any)"
   ],
   "metadata": {
    "collapsed": false,
    "ExecuteTime": {
     "start_time": "2023-09-18T12:15:02.391885Z",
     "end_time": "2023-09-18T12:15:02.405649Z"
    }
   }
  },
  {
   "cell_type": "code",
   "execution_count": 13,
   "outputs": [
    {
     "name": "stdout",
     "output_type": "stream",
     "text": [
      "<regex.Match object; span=(0, 3), match='&r1'>\n",
      "(None, None, None, '&r1', None, None, None, None)\n",
      "{'string': None, 'registerpointer': None, 'register': '&r1', 'number': None, 'address': None, 'variable': None, 'label': None}\n"
     ]
    }
   ],
   "source": [
    "import regex\n",
    "\n",
    "reg = r\"(\\\"(?<string>(?>[^\\\"\\\"]+|(?1))*)\\\")|(?<registerpointer>\\[&r[0-9]{1,3}\\])|(?<register>&r[0-9]{1,3})|(?<number>0x[0-9A-Fa-f]{1,2}|[0-9]{1,3})|(?<address>\\*0x[0-9A-Fa-f]{1,2}|\\*[0-9]{1,3})|(?<variable>\\*[a-zA-Z][a-zA-Z0-9]*)|(?<label>~[a-zA-Z][a-zA-Z0-9_-]*)\"\n",
    "r = regex.compile(reg)\n",
    "res = r.match(\"&r1\")\n",
    "print(res)\n",
    "print(res.groups())\n",
    "print(res.groupdict())"
   ],
   "metadata": {
    "collapsed": false,
    "ExecuteTime": {
     "start_time": "2023-09-18T12:25:40.364367Z",
     "end_time": "2023-09-18T12:25:40.373718Z"
    }
   }
  }
 ],
 "metadata": {
  "kernelspec": {
   "display_name": "Python 3",
   "language": "python",
   "name": "python3"
  },
  "language_info": {
   "codemirror_mode": {
    "name": "ipython",
    "version": 2
   },
   "file_extension": ".py",
   "mimetype": "text/x-python",
   "name": "python",
   "nbconvert_exporter": "python",
   "pygments_lexer": "ipython2",
   "version": "2.7.6"
  }
 },
 "nbformat": 4,
 "nbformat_minor": 0
}
